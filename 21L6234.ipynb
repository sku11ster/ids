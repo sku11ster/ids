{
  "nbformat": 4,
  "nbformat_minor": 0,
  "metadata": {
    "colab": {
      "provenance": [],
      "collapsed_sections": []
    },
    "kernelspec": {
      "name": "python3",
      "display_name": "Python 3"
    },
    "language_info": {
      "name": "python"
    }
  },
  "cells": [
    {
      "cell_type": "markdown",
      "source": [
        "Question 1:"
      ],
      "metadata": {
        "id": "WliLvM7erMEz"
      }
    },
    {
      "cell_type": "code",
      "execution_count": null,
      "metadata": {
        "colab": {
          "base_uri": "https://localhost:8080/"
        },
        "id": "4iu3Z9dROJW3",
        "outputId": "d5cfc245-49e4-41d0-8fa9-e6be07e9c3c0"
      },
      "outputs": [
        {
          "output_type": "stream",
          "name": "stdout",
          "text": [
            "True\n",
            "False\n",
            "False\n"
          ]
        }
      ],
      "source": [
        "test1 = [[1,2, 3],\n",
        "        [2, 3, 1],\n",
        "        [3, 1, 2]]\n",
        "\n",
        "\n",
        "test2 = [[1, 2, 3, 4],\n",
        "        [2, 3, 1, 3],\n",
        "        [3, 1, 2, 3],\n",
        "        [4, 4, 4, 4]]\n",
        "\n",
        "test3 = [['a', 'b', 'c'],\n",
        "        ['b', 'c', 'a'],\n",
        "        ['c', 'a', 'b']]\n",
        "\n",
        "def check_input(list):\n",
        "  duplicate = 0;\n",
        "  out_of_range = 0;\n",
        "\n",
        "  n = len(list)\n",
        " \n",
        "  #checks horizontally for duplicate\n",
        "  for x in range(0,n): \n",
        "    for y in range(0,n-1):\n",
        "        if(list[x][y]==list[x][y+1]):\n",
        "          duplicate = 1;\n",
        "\n",
        "  \n",
        "  #checks vertically for duplicate\n",
        "  for x in range(0,n-1): \n",
        "    for y in range(0,n):\n",
        "        if(list[y][x]==list[y][x+1]):\n",
        "          duplicate = 1;\n",
        "\n",
        "#checks for value greater then n both horizontally and vertical\n",
        "  if(type(list[0][0])!= str):\n",
        "    for x in range(0,n): \n",
        "      for y in range(0,n):\n",
        "        if(list[x][y]>n):\n",
        "          out_of_range = 1;\n",
        "  \n",
        "#check if list contains anything other then numbers;\n",
        "  for x in range(0,n):\n",
        "    for y in range(0,n):\n",
        "      if((type(list[x][y])) == str):\n",
        "          return False\n",
        "        \n",
        "#returns Ouput if parameter like out of range of duplication are detected!     \n",
        "  if(duplicate == 1 or out_of_range==1):\n",
        "    return False\n",
        "  else:\n",
        "    return True\n",
        "\n",
        "  \n",
        "\n",
        "print(check_input(test1)) \n",
        "print(check_input(test2))\n",
        "print(check_input(test3)) \n"
      ]
    },
    {
      "cell_type": "markdown",
      "source": [
        "Question 2: Part A"
      ],
      "metadata": {
        "id": "tn8BkjLJrPGN"
      }
    },
    {
      "cell_type": "code",
      "source": [
        "import pandas as pd\n",
        "\n",
        "#using github repo to import dataset into google collab\n",
        "url = 'https://raw.githubusercontent.com/sku11ster/ids/main/StudentMarkSheet.csv'\n",
        "\n",
        "df = pd.read_csv(url)\n",
        "\n",
        "display(df)\n"
      ],
      "metadata": {
        "colab": {
          "base_uri": "https://localhost:8080/",
          "height": 424
        },
        "id": "ry-zcraDrKxy",
        "outputId": "4a2ac81f-97b3-44e5-e331-0ae70604e2ca"
      },
      "execution_count": null,
      "outputs": [
        {
          "output_type": "display_data",
          "data": {
            "text/plain": [
              "        Student name  Exam name   Exam date  Marks\n",
              "0       James Walker    Biology  05/06/2016   31.0\n",
              "1      Velma Clemons    Biology  05/06/2016   43.0\n",
              "2     Kibo Underwood    Biology  05/06/2016   81.0\n",
              "3        Louis Mcgee    Biology  05/06/2016   11.0\n",
              "4       Phyllis Paul    Biology  05/06/2016   18.0\n",
              "..               ...        ...         ...    ...\n",
              "195       Yen Bowers  Sociology  21/06/2016   52.0\n",
              "196        Ryan Pena  Sociology  21/06/2016   16.0\n",
              "197  Portia Hamilton  Sociology  21/06/2016   34.0\n",
              "198  Sydnee Chambers  Sociology  21/06/2016   76.0\n",
              "199      Stacy Small  Sociology  21/06/2016   96.0\n",
              "\n",
              "[200 rows x 4 columns]"
            ],
            "text/html": [
              "\n",
              "  <div id=\"df-a5a18420-804f-4ace-a24c-0a21b1049871\">\n",
              "    <div class=\"colab-df-container\">\n",
              "      <div>\n",
              "<style scoped>\n",
              "    .dataframe tbody tr th:only-of-type {\n",
              "        vertical-align: middle;\n",
              "    }\n",
              "\n",
              "    .dataframe tbody tr th {\n",
              "        vertical-align: top;\n",
              "    }\n",
              "\n",
              "    .dataframe thead th {\n",
              "        text-align: right;\n",
              "    }\n",
              "</style>\n",
              "<table border=\"1\" class=\"dataframe\">\n",
              "  <thead>\n",
              "    <tr style=\"text-align: right;\">\n",
              "      <th></th>\n",
              "      <th>Student name</th>\n",
              "      <th>Exam name</th>\n",
              "      <th>Exam date</th>\n",
              "      <th>Marks</th>\n",
              "    </tr>\n",
              "  </thead>\n",
              "  <tbody>\n",
              "    <tr>\n",
              "      <th>0</th>\n",
              "      <td>James Walker</td>\n",
              "      <td>Biology</td>\n",
              "      <td>05/06/2016</td>\n",
              "      <td>31.0</td>\n",
              "    </tr>\n",
              "    <tr>\n",
              "      <th>1</th>\n",
              "      <td>Velma Clemons</td>\n",
              "      <td>Biology</td>\n",
              "      <td>05/06/2016</td>\n",
              "      <td>43.0</td>\n",
              "    </tr>\n",
              "    <tr>\n",
              "      <th>2</th>\n",
              "      <td>Kibo Underwood</td>\n",
              "      <td>Biology</td>\n",
              "      <td>05/06/2016</td>\n",
              "      <td>81.0</td>\n",
              "    </tr>\n",
              "    <tr>\n",
              "      <th>3</th>\n",
              "      <td>Louis Mcgee</td>\n",
              "      <td>Biology</td>\n",
              "      <td>05/06/2016</td>\n",
              "      <td>11.0</td>\n",
              "    </tr>\n",
              "    <tr>\n",
              "      <th>4</th>\n",
              "      <td>Phyllis Paul</td>\n",
              "      <td>Biology</td>\n",
              "      <td>05/06/2016</td>\n",
              "      <td>18.0</td>\n",
              "    </tr>\n",
              "    <tr>\n",
              "      <th>...</th>\n",
              "      <td>...</td>\n",
              "      <td>...</td>\n",
              "      <td>...</td>\n",
              "      <td>...</td>\n",
              "    </tr>\n",
              "    <tr>\n",
              "      <th>195</th>\n",
              "      <td>Yen Bowers</td>\n",
              "      <td>Sociology</td>\n",
              "      <td>21/06/2016</td>\n",
              "      <td>52.0</td>\n",
              "    </tr>\n",
              "    <tr>\n",
              "      <th>196</th>\n",
              "      <td>Ryan Pena</td>\n",
              "      <td>Sociology</td>\n",
              "      <td>21/06/2016</td>\n",
              "      <td>16.0</td>\n",
              "    </tr>\n",
              "    <tr>\n",
              "      <th>197</th>\n",
              "      <td>Portia Hamilton</td>\n",
              "      <td>Sociology</td>\n",
              "      <td>21/06/2016</td>\n",
              "      <td>34.0</td>\n",
              "    </tr>\n",
              "    <tr>\n",
              "      <th>198</th>\n",
              "      <td>Sydnee Chambers</td>\n",
              "      <td>Sociology</td>\n",
              "      <td>21/06/2016</td>\n",
              "      <td>76.0</td>\n",
              "    </tr>\n",
              "    <tr>\n",
              "      <th>199</th>\n",
              "      <td>Stacy Small</td>\n",
              "      <td>Sociology</td>\n",
              "      <td>21/06/2016</td>\n",
              "      <td>96.0</td>\n",
              "    </tr>\n",
              "  </tbody>\n",
              "</table>\n",
              "<p>200 rows × 4 columns</p>\n",
              "</div>\n",
              "      <button class=\"colab-df-convert\" onclick=\"convertToInteractive('df-a5a18420-804f-4ace-a24c-0a21b1049871')\"\n",
              "              title=\"Convert this dataframe to an interactive table.\"\n",
              "              style=\"display:none;\">\n",
              "        \n",
              "  <svg xmlns=\"http://www.w3.org/2000/svg\" height=\"24px\"viewBox=\"0 0 24 24\"\n",
              "       width=\"24px\">\n",
              "    <path d=\"M0 0h24v24H0V0z\" fill=\"none\"/>\n",
              "    <path d=\"M18.56 5.44l.94 2.06.94-2.06 2.06-.94-2.06-.94-.94-2.06-.94 2.06-2.06.94zm-11 1L8.5 8.5l.94-2.06 2.06-.94-2.06-.94L8.5 2.5l-.94 2.06-2.06.94zm10 10l.94 2.06.94-2.06 2.06-.94-2.06-.94-.94-2.06-.94 2.06-2.06.94z\"/><path d=\"M17.41 7.96l-1.37-1.37c-.4-.4-.92-.59-1.43-.59-.52 0-1.04.2-1.43.59L10.3 9.45l-7.72 7.72c-.78.78-.78 2.05 0 2.83L4 21.41c.39.39.9.59 1.41.59.51 0 1.02-.2 1.41-.59l7.78-7.78 2.81-2.81c.8-.78.8-2.07 0-2.86zM5.41 20L4 18.59l7.72-7.72 1.47 1.35L5.41 20z\"/>\n",
              "  </svg>\n",
              "      </button>\n",
              "      \n",
              "  <style>\n",
              "    .colab-df-container {\n",
              "      display:flex;\n",
              "      flex-wrap:wrap;\n",
              "      gap: 12px;\n",
              "    }\n",
              "\n",
              "    .colab-df-convert {\n",
              "      background-color: #E8F0FE;\n",
              "      border: none;\n",
              "      border-radius: 50%;\n",
              "      cursor: pointer;\n",
              "      display: none;\n",
              "      fill: #1967D2;\n",
              "      height: 32px;\n",
              "      padding: 0 0 0 0;\n",
              "      width: 32px;\n",
              "    }\n",
              "\n",
              "    .colab-df-convert:hover {\n",
              "      background-color: #E2EBFA;\n",
              "      box-shadow: 0px 1px 2px rgba(60, 64, 67, 0.3), 0px 1px 3px 1px rgba(60, 64, 67, 0.15);\n",
              "      fill: #174EA6;\n",
              "    }\n",
              "\n",
              "    [theme=dark] .colab-df-convert {\n",
              "      background-color: #3B4455;\n",
              "      fill: #D2E3FC;\n",
              "    }\n",
              "\n",
              "    [theme=dark] .colab-df-convert:hover {\n",
              "      background-color: #434B5C;\n",
              "      box-shadow: 0px 1px 3px 1px rgba(0, 0, 0, 0.15);\n",
              "      filter: drop-shadow(0px 1px 2px rgba(0, 0, 0, 0.3));\n",
              "      fill: #FFFFFF;\n",
              "    }\n",
              "  </style>\n",
              "\n",
              "      <script>\n",
              "        const buttonEl =\n",
              "          document.querySelector('#df-a5a18420-804f-4ace-a24c-0a21b1049871 button.colab-df-convert');\n",
              "        buttonEl.style.display =\n",
              "          google.colab.kernel.accessAllowed ? 'block' : 'none';\n",
              "\n",
              "        async function convertToInteractive(key) {\n",
              "          const element = document.querySelector('#df-a5a18420-804f-4ace-a24c-0a21b1049871');\n",
              "          const dataTable =\n",
              "            await google.colab.kernel.invokeFunction('convertToInteractive',\n",
              "                                                     [key], {});\n",
              "          if (!dataTable) return;\n",
              "\n",
              "          const docLinkHtml = 'Like what you see? Visit the ' +\n",
              "            '<a target=\"_blank\" href=https://colab.research.google.com/notebooks/data_table.ipynb>data table notebook</a>'\n",
              "            + ' to learn more about interactive tables.';\n",
              "          element.innerHTML = '';\n",
              "          dataTable['output_type'] = 'display_data';\n",
              "          await google.colab.output.renderOutput(dataTable, element);\n",
              "          const docLink = document.createElement('div');\n",
              "          docLink.innerHTML = docLinkHtml;\n",
              "          element.appendChild(docLink);\n",
              "        }\n",
              "      </script>\n",
              "    </div>\n",
              "  </div>\n",
              "  "
            ]
          },
          "metadata": {}
        }
      ]
    },
    {
      "cell_type": "markdown",
      "source": [
        "Part B"
      ],
      "metadata": {
        "id": "HkPpjBXz61dq"
      }
    },
    {
      "cell_type": "code",
      "source": [
        "df = pd.read_csv(url,error_bad_lines=False)\n",
        "#for counting number of rows\n",
        "r = df.shape[0]\n",
        "print(\"Number of Rows in data set:\")\n",
        "print(r)\n",
        "\n",
        "null_rows = len(df)-len(df.dropna())\n",
        "print(\"Rows with null data removed,Number of rows that were with null data:\")\n",
        "print(null_rows)\n",
        "print(\"Number of rows after cleansing all the null values in row:\")\n",
        "\n",
        "#this drops all rows with null values\n",
        "df =df.dropna(axis=0)\n",
        "print(len(df))plt.plot(train_x,coefficients[0]*train_x + intercept,color=\"orange\")"
      ],
      "metadata": {
        "colab": {
          "base_uri": "https://localhost:8080/"
        },
        "id": "R3uufALP6yBZ",
        "outputId": "ae622063-94c8-4887-de92-d7a8ae41101b"
      },
      "execution_count": null,
      "outputs": [
        {
          "output_type": "stream",
          "name": "stdout",
          "text": [
            "Number of Rows in data set:\n",
            "200\n",
            "Rows with null data removed,Number of rows that were with null data:\n",
            "4\n",
            "Number of rows after cleansing all the null values in row:\n",
            "196\n"
          ]
        }
      ]
    },
    {
      "cell_type": "markdown",
      "source": [
        "Part C"
      ],
      "metadata": {
        "id": "UiJEuwWQPbu_"
      }
    },
    {
      "cell_type": "code",
      "source": [
        "name = \"James Walker\"\n",
        "filter = df.loc[df['Student name']== name]\n",
        "display(filter)"
      ],
      "metadata": {
        "colab": {
          "base_uri": "https://localhost:8080/",
          "height": 206
        },
        "id": "P8_8OezaPXBE",
        "outputId": "1995d6bb-116d-4cbb-c17e-877c78e1bcc0"
      },
      "execution_count": null,
      "outputs": [
        {
          "output_type": "display_data",
          "data": {
            "text/plain": [
              "     Student name    Exam name   Exam date  Marks\n",
              "0    James Walker      Biology  05/06/2016   31.0\n",
              "42   James Walker    Chemistry  15/06/2016   61.0\n",
              "71   James Walker  Mathematics  29/07/2016   23.0\n",
              "150  James Walker      Physics  10/06/2016  100.0\n",
              "180  James Walker    Sociology  21/06/2016   73.0"
            ],
            "text/html": [
              "\n",
              "  <div id=\"df-0c055358-1b54-48b5-b26b-91375113feca\">\n",
              "    <div class=\"colab-df-container\">\n",
              "      <div>\n",
              "<style scoped>\n",
              "    .dataframe tbody tr th:only-of-type {\n",
              "        vertical-align: middle;\n",
              "    }\n",
              "\n",
              "    .dataframe tbody tr th {\n",
              "        vertical-align: top;\n",
              "    }\n",
              "\n",
              "    .dataframe thead th {\n",
              "        text-align: right;\n",
              "    }\n",
              "</style>\n",
              "<table border=\"1\" class=\"dataframe\">\n",
              "  <thead>\n",
              "    <tr style=\"text-align: right;\">\n",
              "      <th></th>\n",
              "      <th>Student name</th>\n",
              "      <th>Exam name</th>\n",
              "      <th>Exam date</th>\n",
              "      <th>Marks</th>\n",
              "    </tr>\n",
              "  </thead>\n",
              "  <tbody>\n",
              "    <tr>\n",
              "      <th>0</th>\n",
              "      <td>James Walker</td>\n",
              "      <td>Biology</td>\n",
              "      <td>05/06/2016</td>\n",
              "      <td>31.0</td>\n",
              "    </tr>\n",
              "    <tr>\n",
              "      <th>42</th>\n",
              "      <td>James Walker</td>\n",
              "      <td>Chemistry</td>\n",
              "      <td>15/06/2016</td>\n",
              "      <td>61.0</td>\n",
              "    </tr>\n",
              "    <tr>\n",
              "      <th>71</th>\n",
              "      <td>James Walker</td>\n",
              "      <td>Mathematics</td>\n",
              "      <td>29/07/2016</td>\n",
              "      <td>23.0</td>\n",
              "    </tr>\n",
              "    <tr>\n",
              "      <th>150</th>\n",
              "      <td>James Walker</td>\n",
              "      <td>Physics</td>\n",
              "      <td>10/06/2016</td>\n",
              "      <td>100.0</td>\n",
              "    </tr>\n",
              "    <tr>\n",
              "      <th>180</th>\n",
              "      <td>James Walker</td>\n",
              "      <td>Sociology</td>\n",
              "      <td>21/06/2016</td>\n",
              "      <td>73.0</td>\n",
              "    </tr>\n",
              "  </tbody>\n",
              "</table>\n",
              "</div>\n",
              "      <button class=\"colab-df-convert\" onclick=\"convertToInteractive('df-0c055358-1b54-48b5-b26b-91375113feca')\"\n",
              "              title=\"Convert this dataframe to an interactive table.\"\n",
              "              style=\"display:none;\">\n",
              "        \n",
              "  <svg xmlns=\"http://www.w3.org/2000/svg\" height=\"24px\"viewBox=\"0 0 24 24\"\n",
              "       width=\"24px\">\n",
              "    <path d=\"M0 0h24v24H0V0z\" fill=\"none\"/>\n",
              "    <path d=\"M18.56 5.44l.94 2.06.94-2.06 2.06-.94-2.06-.94-.94-2.06-.94 2.06-2.06.94zm-11 1L8.5 8.5l.94-2.06 2.06-.94-2.06-.94L8.5 2.5l-.94 2.06-2.06.94zm10 10l.94 2.06.94-2.06 2.06-.94-2.06-.94-.94-2.06-.94 2.06-2.06.94z\"/><path d=\"M17.41 7.96l-1.37-1.37c-.4-.4-.92-.59-1.43-.59-.52 0-1.04.2-1.43.59L10.3 9.45l-7.72 7.72c-.78.78-.78 2.05 0 2.83L4 21.41c.39.39.9.59 1.41.59.51 0 1.02-.2 1.41-.59l7.78-7.78 2.81-2.81c.8-.78.8-2.07 0-2.86zM5.41 20L4 18.59l7.72-7.72 1.47 1.35L5.41 20z\"/>\n",
              "  </svg>\n",
              "      </button>\n",
              "      \n",
              "  <style>\n",
              "    .colab-df-container {\n",
              "      display:flex;\n",
              "      flex-wrap:wrap;\n",
              "      gap: 12px;\n",
              "    }\n",
              "\n",
              "    .colab-df-convert {\n",
              "      background-color: #E8F0FE;\n",
              "      border: none;\n",
              "      border-radius: 50%;\n",
              "      cursor: pointer;\n",
              "      display: none;\n",
              "      fill: #1967D2;\n",
              "      height: 32px;\n",
              "      padding: 0 0 0 0;\n",
              "      width: 32px;\n",
              "    }\n",
              "\n",
              "    .colab-df-convert:hover {\n",
              "      background-color: #E2EBFA;\n",
              "      box-shadow: 0px 1px 2px rgba(60, 64, 67, 0.3), 0px 1px 3px 1px rgba(60, 64, 67, 0.15);\n",
              "      fill: #174EA6;\n",
              "    }\n",
              "\n",
              "    [theme=dark] .colab-df-convert {\n",
              "      background-color: #3B4455;\n",
              "      fill: #D2E3FC;\n",
              "    }\n",
              "\n",
              "    [theme=dark] .colab-df-convert:hover {\n",
              "      background-color: #434B5C;\n",
              "      box-shadow: 0px 1px 3px 1px rgba(0, 0, 0, 0.15);\n",
              "      filter: drop-shadow(0px 1px 2px rgba(0, 0, 0, 0.3));\n",
              "      fill: #FFFFFF;\n",
              "    }\n",
              "  </style>\n",
              "\n",
              "      <script>\n",
              "        const buttonEl =\n",
              "          document.querySelector('#df-0c055358-1b54-48b5-b26b-91375113feca button.colab-df-convert');\n",
              "        buttonEl.style.display =\n",
              "          google.colab.kernel.accessAllowed ? 'block' : 'none';\n",
              "\n",
              "        async function convertToInteractive(key) {\n",
              "          const element = document.querySelector('#df-0c055358-1b54-48b5-b26b-91375113feca');\n",
              "          const dataTable =\n",
              "            await google.colab.kernel.invokeFunction('convertToInteractive',\n",
              "                                                     [key], {});\n",
              "          if (!dataTable) return;\n",
              "\n",
              "          const docLinkHtml = 'Like what you see? Visit the ' +\n",
              "            '<a target=\"_blank\" href=https://colab.research.google.com/notebooks/data_table.ipynb>data table notebook</a>'\n",
              "            + ' to learn more about interactive tables.';\n",
              "          element.innerHTML = '';\n",
              "          dataTable['output_type'] = 'display_data';\n",
              "          await google.colab.output.renderOutput(dataTable, element);\n",
              "          const docLink = document.createElement('div');\n",
              "          docLink.innerHTML = docLinkHtml;\n",
              "          element.appendChild(docLink);\n",
              "        }\n",
              "      </script>\n",
              "    </div>\n",
              "  </div>\n",
              "  "
            ]
          },
          "metadata": {}
        }
      ]
    },
    {
      "cell_type": "markdown",
      "source": [
        "Question 3: Part A"
      ],
      "metadata": {
        "id": "K1vFFeg6TPyG"
      }
    },
    {
      "cell_type": "code",
      "source": [
        "df = pd.read_csv(url)\n",
        "df = df.dropna(axis=0)\n",
        "\n",
        "subjects = df[\"Exam name\"].unique()\n",
        "avg= []\n",
        "for x in range(0,len(subjects)):\n",
        "  temp = df.loc[df[\"Exam name\"]==subjects[x]].eval(\"Marks\").sum(axis = 0)\n",
        "  avg.append(temp)\n",
        "\n",
        "print(\"Subjects:\")\n",
        "print(subjects)\n",
        "print(\"Average Marks:\")\n",
        "print(avg)\n"
      ],
      "metadata": {
        "colab": {
          "base_uri": "https://localhost:8080/"
        },
        "id": "dy7Jy9a-TOsw",
        "outputId": "f59e743e-7fb4-4521-e986-2e8cbf871347"
      },
      "execution_count": null,
      "outputs": [
        {
          "output_type": "stream",
          "name": "stdout",
          "text": [
            "Subjects:\n",
            "['Biology' 'Chemistry' 'Mathematics' 'Philosophy' 'Physics' 'Sociology']\n",
            "Average Marks:\n",
            "[1820.0, 1315.0, 1763.0, 1749.0, 1087.0, 2129.0]\n"
          ]
        }
      ]
    },
    {
      "cell_type": "markdown",
      "source": [
        "Part **B**"
      ],
      "metadata": {
        "id": "yLzgxPczdU8D"
      }
    },
    {
      "cell_type": "code",
      "source": [
        "\n",
        "df = pd.DataFrame({\"Average Marks\" : avg },index = subjects)\n",
        "\n",
        "df.plot(kind=\"bar\")"
      ],
      "metadata": {
        "colab": {
          "base_uri": "https://localhost:8080/",
          "height": 337
        },
        "id": "E7IKSJD1dT2S",
        "outputId": "d7dfa232-6dcf-4eab-d511-d1f8708d84c3"
      },
      "execution_count": null,
      "outputs": [
        {
          "output_type": "execute_result",
          "data": {
            "text/plain": [
              "<matplotlib.axes._subplots.AxesSubplot at 0x7f950fa886d0>"
            ]
          },
          "metadata": {},
          "execution_count": 157
        },
        {
          "output_type": "display_data",
          "data": {
            "text/plain": [
              "<Figure size 432x288 with 1 Axes>"
            ],
            "image/png": "[encoded data removed]"
          },
          "metadata": {
            "needs_background": "light"
          }
        }
      ]
    },
    {
      "cell_type": "markdown",
      "source": [
        "Question 4"
      ],
      "metadata": {
        "id": "bxCmUF5Shf2M"
      }
    },
    {
      "cell_type": "code",
      "source": [
        "url = 'https://raw.githubusercontent.com/sku11ster/ids/main/CatData.csv'\n",
        "\n",
        "df1 = pd.read_csv(url)\n",
        "df1 = df1.dropna(axis=0)\n",
        "display(df1)"
      ],
      "metadata": {
        "id": "oBWVkCnLhep8",
        "colab": {
          "base_uri": "https://localhost:8080/",
          "height": 424
        },
        "outputId": "653ed0da-afb5-47d8-c19f-dbfcd5ec971c"
      },
      "execution_count": null,
      "outputs": [
        {
          "output_type": "display_data",
          "data": {
            "text/plain": [
              "     Tail Length (cm)  Mass (kg)\n",
              "0                18.1      3.750\n",
              "1                18.6      3.800\n",
              "2                19.5      3.250\n",
              "3                19.3      3.450\n",
              "4                19.0      3.650\n",
              "..                ...        ...\n",
              "337              20.7      4.000\n",
              "338              20.2      3.400\n",
              "339              19.3      3.775\n",
              "340              21.0      4.100\n",
              "341              19.8      3.775\n",
              "\n",
              "[342 rows x 2 columns]"
            ],
            "text/html": [
              "\n",
              "  <div id=\"df-98cb8a53-8ac0-41eb-a337-e993963ea0f3\">\n",
              "    <div class=\"colab-df-container\">\n",
              "      <div>\n",
              "<style scoped>\n",
              "    .dataframe tbody tr th:only-of-type {\n",
              "        vertical-align: middle;\n",
              "    }\n",
              "\n",
              "    .dataframe tbody tr th {\n",
              "        vertical-align: top;\n",
              "    }\n",
              "\n",
              "    .dataframe thead th {\n",
              "        text-align: right;\n",
              "    }\n",
              "</style>\n",
              "<table border=\"1\" class=\"dataframe\">\n",
              "  <thead>\n",
              "    <tr style=\"text-align: right;\">\n",
              "      <th></th>\n",
              "      <th>Tail Length (cm)</th>\n",
              "      <th>Mass (kg)</th>\n",
              "    </tr>\n",
              "  </thead>\n",
              "  <tbody>\n",
              "    <tr>\n",
              "      <th>0</th>\n",
              "      <td>18.1</td>\n",
              "      <td>3.750</td>\n",
              "    </tr>\n",
              "    <tr>\n",
              "      <th>1</th>\n",
              "      <td>18.6</td>\n",
              "      <td>3.800</td>\n",
              "    </tr>\n",
              "    <tr>\n",
              "      <th>2</th>\n",
              "      <td>19.5</td>\n",
              "      <td>3.250</td>\n",
              "    </tr>\n",
              "    <tr>\n",
              "      <th>3</th>\n",
              "      <td>19.3</td>\n",
              "      <td>3.450</td>\n",
              "    </tr>\n",
              "    <tr>\n",
              "      <th>4</th>\n",
              "      <td>19.0</td>\n",
              "      <td>3.650</td>\n",
              "    </tr>\n",
              "    <tr>\n",
              "      <th>...</th>\n",
              "      <td>...</td>\n",
              "      <td>...</td>\n",
              "    </tr>\n",
              "    <tr>\n",
              "      <th>337</th>\n",
              "      <td>20.7</td>\n",
              "      <td>4.000</td>\n",
              "    </tr>\n",
              "    <tr>\n",
              "      <th>338</th>\n",
              "      <td>20.2</td>\n",
              "      <td>3.400</td>\n",
              "    </tr>\n",
              "    <tr>\n",
              "      <th>339</th>\n",
              "      <td>19.3</td>\n",
              "      <td>3.775</td>\n",
              "    </tr>\n",
              "    <tr>\n",
              "      <th>340</th>\n",
              "      <td>21.0</td>\n",
              "      <td>4.100</td>\n",
              "    </tr>\n",
              "    <tr>\n",
              "      <th>341</th>\n",
              "      <td>19.8</td>\n",
              "      <td>3.775</td>\n",
              "    </tr>\n",
              "  </tbody>\n",
              "</table>\n",
              "<p>342 rows × 2 columns</p>\n",
              "</div>\n",
              "      <button class=\"colab-df-convert\" onclick=\"convertToInteractive('df-98cb8a53-8ac0-41eb-a337-e993963ea0f3')\"\n",
              "              title=\"Convert this dataframe to an interactive table.\"\n",
              "              style=\"display:none;\">\n",
              "        \n",
              "  <svg xmlns=\"http://www.w3.org/2000/svg\" height=\"24px\"viewBox=\"0 0 24 24\"\n",
              "       width=\"24px\">\n",
              "    <path d=\"M0 0h24v24H0V0z\" fill=\"none\"/>\n",
              "    <path d=\"M18.56 5.44l.94 2.06.94-2.06 2.06-.94-2.06-.94-.94-2.06-.94 2.06-2.06.94zm-11 1L8.5 8.5l.94-2.06 2.06-.94-2.06-.94L8.5 2.5l-.94 2.06-2.06.94zm10 10l.94 2.06.94-2.06 2.06-.94-2.06-.94-.94-2.06-.94 2.06-2.06.94z\"/><path d=\"M17.41 7.96l-1.37-1.37c-.4-.4-.92-.59-1.43-.59-.52 0-1.04.2-1.43.59L10.3 9.45l-7.72 7.72c-.78.78-.78 2.05 0 2.83L4 21.41c.39.39.9.59 1.41.59.51 0 1.02-.2 1.41-.59l7.78-7.78 2.81-2.81c.8-.78.8-2.07 0-2.86zM5.41 20L4 18.59l7.72-7.72 1.47 1.35L5.41 20z\"/>\n",
              "  </svg>\n",
              "      </button>\n",
              "      \n",
              "  <style>\n",
              "    .colab-df-container {\n",
              "      display:flex;\n",
              "      flex-wrap:wrap;\n",
              "      gap: 12px;\n",
              "    }\n",
              "\n",
              "    .colab-df-convert {\n",
              "      background-color: #E8F0FE;\n",
              "      border: none;\n",
              "      border-radius: 50%;\n",
              "      cursor: pointer;\n",
              "      display: none;\n",
              "      fill: #1967D2;\n",
              "      height: 32px;\n",
              "      padding: 0 0 0 0;\n",
              "      width: 32px;\n",
              "    }\n",
              "\n",
              "    .colab-df-convert:hover {\n",
              "      background-color: #E2EBFA;\n",
              "      box-shadow: 0px 1px 2px rgba(60, 64, 67, 0.3), 0px 1px 3px 1px rgba(60, 64, 67, 0.15);\n",
              "      fill: #174EA6;\n",
              "    }\n",
              "\n",
              "    [theme=dark] .colab-df-convert {\n",
              "      background-color: #3B4455;\n",
              "      fill: #D2E3FC;\n",
              "    }\n",
              "\n",
              "    [theme=dark] .colab-df-convert:hover {\n",
              "      background-color: #434B5C;\n",
              "      box-shadow: 0px 1px 3px 1px rgba(0, 0, 0, 0.15);\n",
              "      filter: drop-shadow(0px 1px 2px rgba(0, 0, 0, 0.3));\n",
              "      fill: #FFFFFF;\n",
              "    }\n",
              "  </style>\n",
              "\n",
              "      <script>\n",
              "        const buttonEl =\n",
              "          document.querySelector('#df-98cb8a53-8ac0-41eb-a337-e993963ea0f3 button.colab-df-convert');\n",
              "        buttonEl.style.display =\n",
              "          google.colab.kernel.accessAllowed ? 'block' : 'none';\n",
              "\n",
              "        async function convertToInteractive(key) {\n",
              "          const element = document.querySelector('#df-98cb8a53-8ac0-41eb-a337-e993963ea0f3');\n",
              "          const dataTable =\n",
              "            await google.colab.kernel.invokeFunction('convertToInteractive',\n",
              "                                                     [key], {});\n",
              "          if (!dataTable) return;\n",
              "\n",
              "          const docLinkHtml = 'Like what you see? Visit the ' +\n",
              "            '<a target=\"_blank\" href=https://colab.research.google.com/notebooks/data_table.ipynb>data table notebook</a>'\n",
              "            + ' to learn more about interactive tables.';\n",
              "          element.innerHTML = '';\n",
              "          dataTable['output_type'] = 'display_data';\n",
              "          await google.colab.output.renderOutput(dataTable, element);\n",
              "          const docLink = document.createElement('div');\n",
              "          docLink.innerHTML = docLinkHtml;\n",
              "          element.appendChild(docLink);\n",
              "        }\n",
              "      </script>\n",
              "    </div>\n",
              "  </div>\n",
              "  "
            ]
          },
          "metadata": {}
        }
      ]
    },
    {
      "cell_type": "markdown",
      "source": [
        "Part B"
      ],
      "metadata": {
        "id": "QWERAnlhulGH"
      }
    },
    {
      "cell_type": "code",
      "source": [
        "#dependant variable : Tail length\n",
        "#independant variable : Mass"
      ],
      "metadata": {
        "id": "Z66CFO1nukeJ"
      },
      "execution_count": null,
      "outputs": []
    },
    {
      "cell_type": "markdown",
      "source": [
        "Part C"
      ],
      "metadata": {
        "id": "rAhhljsQxlPm"
      }
    },
    {
      "cell_type": "code",
      "source": [
        "import matplotlib.pyplot as plt\n",
        "import numpy as np\n",
        "\n",
        "from sklearn import linear_model  \n",
        "\n",
        "#seprating data for linear regression and testing\n",
        "sepration_point = int(len(df1)*0.8)\n",
        "\n",
        "train =  df1[:sepration_point]\n",
        "test = df1[sepration_point:]\n",
        "\n",
        "print(\"Total Data:\")\n",
        "print(len(df1))\n",
        "\n",
        "print(\"Training Data Samples:\")\n",
        "print(len(train))\n",
        "\n",
        "print(\"Testing Data Samples:\")\n",
        "print(len(test))\n",
        "\n",
        "regression = linear_model.LinearRegression()\n",
        "train_x = np.array(df1[[\"Mass (kg)\"]])\n",
        "train_y = np.array(df1[[\"Tail Length (cm)\"]])\n",
        "\n",
        "regression.fit(train_x,train_y)\n",
        "\n",
        "coefficients =  regression.coef_\n",
        "intercept = regression.intercept_\n",
        "\n",
        "\n",
        "\n",
        "print(\"DATASET FED SUCCESFULLY !!\")"
      ],
      "metadata": {
        "colab": {
          "base_uri": "https://localhost:8080/",
          "height": 0
        },
        "id": "bBOOyplbxkXk",
        "outputId": "f8c1c4be-412b-423f-af51-2f4dd80fe809"
      },
      "execution_count": 31,
      "outputs": [
        {
          "output_type": "stream",
          "name": "stdout",
          "text": [
            "Total Data:\n",
            "342\n",
            "Training Data Samples:\n",
            "273\n",
            "Testing Data Samples:\n",
            "69\n",
            "DATASET FED SUCCESFULLY !!\n"
          ]
        }
      ]
    },
    {
      "cell_type": "markdown",
      "source": [
        "Part D"
      ],
      "metadata": {
        "id": "GefIfylSDB2E"
      }
    },
    {
      "cell_type": "code",
      "source": [
        "print(\"Slope:\",coefficients)\n",
        "print(\"Y-intercept:\",intercept )\n"
      ],
      "metadata": {
        "colab": {
          "base_uri": "https://localhost:8080/",
          "height": 0
        },
        "id": "2LCqxACBDBKW",
        "outputId": "b4a5653d-b531-4bb2-97d4-e8ee0c4994d8"
      },
      "execution_count": 33,
      "outputs": [
        {
          "output_type": "stream",
          "name": "stdout",
          "text": [
            "Slope: [[1.52759156]]\n",
            "Y-intercept: [13.67295593]\n"
          ]
        }
      ]
    },
    {
      "cell_type": "markdown",
      "source": [
        "Part E"
      ],
      "metadata": {
        "id": "PbDbWXbHDdPH"
      }
    },
    {
      "cell_type": "code",
      "source": [
        "#plotting the scatter plot of orignal data and the regression line\n",
        "plt.scatter(df1[\"Mass (kg)\"],df1[\"Tail Length (cm)\"])\n",
        "plt.plot(train_x,coefficients[0]*train_x + intercept,color=\"green\")\n",
        "plt.title(\"MASS V TAIL LENGTH\")\n",
        "plt.xlabel(\"MASS (kg)\")\n",
        "plt.ylabel(\"Tail Length (cm)\")\n",
        "plt.show()\n"
      ],
      "metadata": {
        "colab": {
          "base_uri": "https://localhost:8080/",
          "height": 295
        },
        "id": "qZOsFNeFDce-",
        "outputId": "c31a2a02-c3e4-4f70-e7d0-35b8530d6d67"
      },
      "execution_count": 40,
      "outputs": [
        {
          "output_type": "display_data",
          "data": {
            "text/plain": [
              "<Figure size 432x288 with 1 Axes>"
            ],
            "image/png": "[encoded data removed]"
          },
          "metadata": {
            "needs_background": "light"
          }
        }
      ]
    }
  ]
}